{
  "cells": [
    {
      "cell_type": "code",
      "execution_count": null,
      "metadata": {
        "colab": {
          "base_uri": "https://localhost:8080/"
        },
        "id": "WEHQLrCBfEQr",
        "outputId": "cc157799-7c1f-40bf-b5f2-96c1cd03c299"
      },
      "outputs": [
        {
          "name": "stdout",
          "output_type": "stream",
          "text": [
            "Collecting scikeras\n",
            "  Downloading scikeras-0.11.0-py3-none-any.whl (27 kB)\n",
            "Requirement already satisfied: packaging>=0.21 in /usr/local/lib/python3.10/dist-packages (from scikeras) (23.1)\n",
            "Requirement already satisfied: scikit-learn>=1.0.0 in /usr/local/lib/python3.10/dist-packages (from scikeras) (1.2.2)\n",
            "Requirement already satisfied: numpy>=1.17.3 in /usr/local/lib/python3.10/dist-packages (from scikit-learn>=1.0.0->scikeras) (1.23.5)\n",
            "Requirement already satisfied: scipy>=1.3.2 in /usr/local/lib/python3.10/dist-packages (from scikit-learn>=1.0.0->scikeras) (1.11.2)\n",
            "Requirement already satisfied: joblib>=1.1.1 in /usr/local/lib/python3.10/dist-packages (from scikit-learn>=1.0.0->scikeras) (1.3.2)\n",
            "Requirement already satisfied: threadpoolctl>=2.0.0 in /usr/local/lib/python3.10/dist-packages (from scikit-learn>=1.0.0->scikeras) (3.2.0)\n",
            "Installing collected packages: scikeras\n",
            "Successfully installed scikeras-0.11.0\n",
            "Collecting flask-ngrok\n",
            "  Downloading flask_ngrok-0.0.25-py3-none-any.whl (3.1 kB)\n",
            "Requirement already satisfied: Flask>=0.8 in /usr/local/lib/python3.10/dist-packages (from flask-ngrok) (2.2.5)\n",
            "Requirement already satisfied: requests in /usr/local/lib/python3.10/dist-packages (from flask-ngrok) (2.31.0)\n",
            "Requirement already satisfied: Werkzeug>=2.2.2 in /usr/local/lib/python3.10/dist-packages (from Flask>=0.8->flask-ngrok) (2.3.7)\n",
            "Requirement already satisfied: Jinja2>=3.0 in /usr/local/lib/python3.10/dist-packages (from Flask>=0.8->flask-ngrok) (3.1.2)\n",
            "Requirement already satisfied: itsdangerous>=2.0 in /usr/local/lib/python3.10/dist-packages (from Flask>=0.8->flask-ngrok) (2.1.2)\n",
            "Requirement already satisfied: click>=8.0 in /usr/local/lib/python3.10/dist-packages (from Flask>=0.8->flask-ngrok) (8.1.7)\n",
            "Requirement already satisfied: charset-normalizer<4,>=2 in /usr/local/lib/python3.10/dist-packages (from requests->flask-ngrok) (3.2.0)\n",
            "Requirement already satisfied: idna<4,>=2.5 in /usr/local/lib/python3.10/dist-packages (from requests->flask-ngrok) (3.4)\n",
            "Requirement already satisfied: urllib3<3,>=1.21.1 in /usr/local/lib/python3.10/dist-packages (from requests->flask-ngrok) (2.0.4)\n",
            "Requirement already satisfied: certifi>=2017.4.17 in /usr/local/lib/python3.10/dist-packages (from requests->flask-ngrok) (2023.7.22)\n",
            "Requirement already satisfied: MarkupSafe>=2.0 in /usr/local/lib/python3.10/dist-packages (from Jinja2>=3.0->Flask>=0.8->flask-ngrok) (2.1.3)\n",
            "Installing collected packages: flask-ngrok\n",
            "Successfully installed flask-ngrok-0.0.25\n"
          ]
        }
      ],
      "source": [
        "!pip install scikeras\n",
        "!pip install flask-ngrok"
      ]
    },
    {
      "cell_type": "code",
      "execution_count": null,
      "metadata": {
        "colab": {
          "base_uri": "https://localhost:8080/"
        },
        "id": "0Ik5SnHPMLuU",
        "outputId": "e4956e3c-58e8-47c0-fbca-1e37bd2aca36"
      },
      "outputs": [
        {
          "name": "stdout",
          "output_type": "stream",
          "text": [
            "Collecting pyngrok\n",
            "  Downloading pyngrok-7.0.0.tar.gz (718 kB)\n",
            "\u001b[2K     \u001b[90m━━━━━━━━━━━━━━━━━━━━━━━━━━━━━━━━━━━━━━\u001b[0m \u001b[32m718.7/718.7 kB\u001b[0m \u001b[31m10.4 MB/s\u001b[0m eta \u001b[36m0:00:00\u001b[0m\n",
            "\u001b[?25h  Preparing metadata (setup.py) ... \u001b[?25l\u001b[?25hdone\n",
            "Requirement already satisfied: PyYAML in /usr/local/lib/python3.10/dist-packages (from pyngrok) (6.0.1)\n",
            "Building wheels for collected packages: pyngrok\n",
            "  Building wheel for pyngrok (setup.py) ... \u001b[?25l\u001b[?25hdone\n",
            "  Created wheel for pyngrok: filename=pyngrok-7.0.0-py3-none-any.whl size=21129 sha256=2bb12e1f3f918862ed5c42f29c9bf7a60bfa7f32e32334c2c71a6678910b5ab1\n",
            "  Stored in directory: /root/.cache/pip/wheels/60/29/7b/f64332aa7e5e88fbd56d4002185ae22dcdc83b35b3d1c2cbf5\n",
            "Successfully built pyngrok\n",
            "Installing collected packages: pyngrok\n",
            "Successfully installed pyngrok-7.0.0\n",
            "Authtoken saved to configuration file: /root/.ngrok2/ngrok.yml\n"
          ]
        }
      ],
      "source": [
        "!pip install pyngrok\n",
        "!ngrok authtoken \"2VgRIx5A9ZHEX0wrF2ze7kTDlvy_5PizugQJbrkVEckpvmzcB\""
      ]
    },
    {
      "cell_type": "code",
      "execution_count": null,
      "metadata": {
        "id": "vaVYnX91ndL_"
      },
      "outputs": [],
      "source": [
        "# from google.colab import drive\n",
        "#drive.mount('/drive')"
      ]
    },
    {
      "cell_type": "code",
      "execution_count": null,
      "metadata": {
        "colab": {
          "base_uri": "https://localhost:8080/"
        },
        "id": "sQ1YIY9Fnsb8",
        "outputId": "a94183dd-e572-4ce4-98cb-bd4240d61c90"
      },
      "outputs": [
        {
          "name": "stdout",
          "output_type": "stream",
          "text": [
            "/content/drive/MyDrive/Colab/Modal\n"
          ]
        }
      ],
      "source": [
        "cd /content/drive/MyDrive/Colab/Modal"
      ]
    },
    {
      "cell_type": "code",
      "execution_count": null,
      "metadata": {
        "id": "09QzU9CXfJV8"
      },
      "outputs": [],
      "source": [
        "import warnings\n",
        "warnings.filterwarnings(\"ignore\")\n",
        "import pandas as pd\n",
        "import numpy as np\n",
        "import pickle\n",
        "from flask_ngrok import run_with_ngrok\n",
        "from flask import Flask,request,render_template"
      ]
    },
    {
      "cell_type": "code",
      "execution_count": null,
      "metadata": {
        "id": "J9PEqSeRvLqb"
      },
      "outputs": [],
      "source": [
        "def twoLayerFeedForward():\n",
        "    clf = Sequential()\n",
        "    clf.add(Dense(64, activation='relu', input_dim=10))\n",
        "    clf.add(Dropout(rate=0.2))\n",
        "    clf.add(Dense(32, activation='relu'))\n",
        "    clf.add(Dense(1, activation='sigmoid'))\n",
        "    clf.compile(loss='binary_crossentropy', optimizer='adam', metrics=[\"accuracy\"])\n",
        "    return clf"
      ]
    },
    {
      "cell_type": "code",
      "execution_count": null,
      "metadata": {
        "id": "LecZHuM9fkg2"
      },
      "outputs": [],
      "source": [
        "app = Flask(__name__)\n",
        "run_with_ngrok(app)\n",
        "\n",
        "@app.route('/')\n",
        "def home():\n",
        "  return render_template('index.html')\n",
        "\n",
        "@app.route('/getprediction', methods=['POST'])\n",
        "def getprediction():\n",
        "  input = [float(x) if x.isnumeric() else x for x in request.form.values()]\n",
        "\n",
        "  preprocessors = pickle.load(open('updated-preprocessors.pkl', 'rb'))\n",
        "  model = pickle.load(open('upd_trained_ensemble.pkl', 'rb'))\n",
        "  le = preprocessors['le']\n",
        "  sc = preprocessors['sc']\n",
        "\n",
        "  column = ['gender','ever_married','work_type','Residence_type','smoking_status']\n",
        "  feature_names = ['gender', 'age', 'hypertension', 'heart_disease', 'ever_married', 'work_type', 'Residence_type', 'avg_glucose_level', 'bmi', 'smoking_status']\n",
        "\n",
        "  sample_data = np.array([input])\n",
        "  sample_data_with_names = pd.DataFrame(sample_data, columns=feature_names)\n",
        "\n",
        "  t = le.transform(sample_data_with_names[column].values.ravel())\n",
        "\n",
        "  sample_data_with_names.iloc[0]['gender'] = t[0]\n",
        "  sample_data_with_names.iloc[0]['ever_married'] = t[1]\n",
        "  sample_data_with_names.iloc[0]['work_type'] = t[2]\n",
        "  sample_data_with_names.iloc[0]['Residence_type'] = t[3]\n",
        "  sample_data_with_names.iloc[0]['smoking_status'] = t[4]\n",
        "\n",
        "  sample_data_with_names = sc.transform(sample_data_with_names)\n",
        "  sample_data_with_names = pd.DataFrame(sample_data_with_names, columns=feature_names)\n",
        "\n",
        "  print(sample_data_with_names)\n",
        "\n",
        "  result = 'Yes' if model.predict(sample_data_with_names)[0] == 1 else 'No'\n",
        "\n",
        "  return render_template('index.html', output='Prediction result from Model: {}'.format(result))"
      ]
    },
    {
      "cell_type": "code",
      "execution_count": null,
      "metadata": {
        "colab": {
          "background_save": true,
          "base_uri": "https://localhost:8080/"
        },
        "id": "AZXPtX2ch2E1",
        "outputId": "fc8087e5-8b46-4025-8190-cc9e42379bb6"
      },
      "outputs": [
        {
          "name": "stdout",
          "output_type": "stream",
          "text": [
            " * Serving Flask app '__main__'\n",
            " * Debug mode: off\n"
          ]
        },
        {
          "name": "stderr",
          "output_type": "stream",
          "text": [
            "INFO:werkzeug:\u001b[31m\u001b[1mWARNING: This is a development server. Do not use it in a production deployment. Use a production WSGI server instead.\u001b[0m\n",
            " * Running on http://127.0.0.1:5000\n",
            "INFO:werkzeug:\u001b[33mPress CTRL+C to quit\u001b[0m\n"
          ]
        },
        {
          "name": "stdout",
          "output_type": "stream",
          "text": [
            " * Running on http://565c-35-199-169-53.ngrok-free.app\n",
            " * Traffic stats available on http://127.0.0.1:4040\n"
          ]
        },
        {
          "name": "stderr",
          "output_type": "stream",
          "text": [
            "INFO:werkzeug:127.0.0.1 - - [23/Sep/2023 16:30:55] \"GET / HTTP/1.1\" 200 -\n",
            "INFO:werkzeug:127.0.0.1 - - [23/Sep/2023 16:30:56] \"\u001b[33mGET /favicon.ico HTTP/1.1\u001b[0m\" 404 -\n"
          ]
        },
        {
          "name": "stdout",
          "output_type": "stream",
          "text": [
            "     gender      age  hypertension  heart_disease  ever_married  work_type  \\\n",
            "0  1.186997  0.96298      3.043196      -0.238947      0.723884  -0.161586   \n",
            "\n",
            "   Residence_type  avg_glucose_level       bmi  smoking_status  \n",
            "0         0.98408           0.747636  3.996723         1.07452  \n"
          ]
        },
        {
          "name": "stderr",
          "output_type": "stream",
          "text": [
            "INFO:werkzeug:127.0.0.1 - - [23/Sep/2023 16:31:31] \"POST /getprediction HTTP/1.1\" 200 -\n",
            "INFO:werkzeug:127.0.0.1 - - [23/Sep/2023 16:36:02] \"POST /getprediction HTTP/1.1\" 200 -\n"
          ]
        },
        {
          "name": "stdout",
          "output_type": "stream",
          "text": [
            "     gender       age  hypertension  heart_disease  ever_married  work_type  \\\n",
            "0  1.186997  1.537935     -0.328602       4.185032      0.723884  -0.161586   \n",
            "\n",
            "   Residence_type  avg_glucose_level       bmi  smoking_status  \n",
            "0         0.98408           2.510921  3.996723         1.07452  \n"
          ]
        }
      ],
      "source": [
        "app.run()"
      ]
    }
  ],
  "metadata": {
    "colab": {
      "provenance": []
    },
    "kernelspec": {
      "display_name": "Python 3",
      "name": "python3"
    },
    "language_info": {
      "name": "python"
    }
  },
  "nbformat": 4,
  "nbformat_minor": 0
}